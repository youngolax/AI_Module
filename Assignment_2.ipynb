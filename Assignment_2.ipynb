{
  "nbformat": 4,
  "nbformat_minor": 0,
  "metadata": {
    "colab": {
      "provenance": [],
      "authorship_tag": "ABX9TyN/Gl056g1g9CMQ6YbKSaFm",
      "include_colab_link": true
    },
    "kernelspec": {
      "name": "python3",
      "display_name": "Python 3"
    },
    "language_info": {
      "name": "python"
    }
  },
  "cells": [
    {
      "cell_type": "markdown",
      "metadata": {
        "id": "view-in-github",
        "colab_type": "text"
      },
      "source": [
        "<a href=\"https://colab.research.google.com/github/youngolax/AI_Module/blob/main/Assignment_2.ipynb\" target=\"_parent\"><img src=\"https://colab.research.google.com/assets/colab-badge.svg\" alt=\"Open In Colab\"/></a>"
      ]
    },
    {
      "cell_type": "markdown",
      "source": [
        "**MAIN ASSIGNMENT 2**"
      ],
      "metadata": {
        "id": "ltMLQOeOwuU-"
      }
    },
    {
      "cell_type": "code",
      "execution_count": null,
      "metadata": {
        "id": "Odr4hxDVGXkO"
      },
      "outputs": [],
      "source": [
        "# Importing only necessary libraries\n",
        "import numpy as np\n",
        "import pandas as pd\n",
        "import matplotlib.pyplot as plt\n",
        "from math import sqrt"
      ]
    },
    {
      "cell_type": "code",
      "source": [
        "# Importing the file from google colab\n",
        "from google.colab import drive\n",
        "drive.mount('/content/drive')"
      ],
      "metadata": {
        "colab": {
          "base_uri": "https://localhost:8080/"
        },
        "id": "1Z0mAddCHGwT",
        "outputId": "d58dcde6-088c-444a-d99e-bcedd2dd2e82"
      },
      "execution_count": null,
      "outputs": [
        {
          "output_type": "stream",
          "name": "stdout",
          "text": [
            "Mounted at /content/drive\n"
          ]
        }
      ]
    },
    {
      "cell_type": "code",
      "source": [
        "# Loading the data\n",
        "data = pd.read_csv('/content/drive/MyDrive/Colab Notebooks/Telco_Customer_Churn_Modified.csv')\n",
        "X = data.drop('DroppedService', axis=1)\n",
        "y = data['DroppedService'].map({'Yes': 1, 'No': 0})  # Binary target"
      ],
      "metadata": {
        "id": "XYRUGkkRHU4c"
      },
      "execution_count": null,
      "outputs": []
    },
    {
      "cell_type": "code",
      "source": [
        "# Feature Engineering\n",
        "# Converting the categorical variables to numeric\n",
        "def encode_categorical(df, column):\n",
        "    mapping = {val: idx for idx, val in enumerate(df[column].unique())}\n",
        "    df[column] = df[column].map(mapping)\n",
        "    return df\n",
        "\n",
        "categorical_cols = ['Gender', 'HasPartner', 'HasDependents', 'HasPhoneService', 'HasMultipleLines',\n",
        "                    'InternetServiceType', 'OnlineSecurityEnabled', 'OnlineBackupEnabled',\n",
        "                    'DeviceProtectionEnabled', 'TechSupportEnabled', 'StreamingTVService',\n",
        "                    'StreamingMoviesService', 'SubscriptionPlan', 'UsesPaperlessBilling',\n",
        "                    'PaymentMethodUsed', 'District', 'MobileMoneySubscription', 'RuralSubscriber']\n",
        "for col in categorical_cols:\n",
        "    X = encode_categorical(X, col)\n"
      ],
      "metadata": {
        "id": "_j9PqOh4HW8a"
      },
      "execution_count": null,
      "outputs": []
    },
    {
      "cell_type": "code",
      "source": [
        "# Feature Selection: Select top features based on correlation with target\n",
        "numerical_features = X.select_dtypes(include=np.number).columns\n",
        "correlation = X[numerical_features].corrwith(y)\n",
        "selected_features = correlation.abs().sort_values(ascending=False).head(10).index\n",
        "X_selected = X[selected_features].values\n",
        "feature_names = selected_features.tolist()"
      ],
      "metadata": {
        "id": "lQrKzZrTO8tD"
      },
      "execution_count": null,
      "outputs": []
    },
    {
      "cell_type": "code",
      "source": [
        "# Normalize features\n",
        "X_mean = X_selected.mean(axis=0)\n",
        "X_std = X_selected.std(axis=0)\n",
        "X_normalized = (X_selected - X_mean) / X_std\n",
        "y = y.values # coverts target to numpy array"
      ],
      "metadata": {
        "id": "MgPPc_jVIKNU"
      },
      "execution_count": null,
      "outputs": []
    },
    {
      "cell_type": "code",
      "source": [
        "# Split dataset (manual split: 70% train, 15% validation, 15% test)\n",
        "np.random.seed(42)\n",
        "indices = np.random.permutation(len(y))\n",
        "train_size, val_size = int(0.7 * len(y)), int(0.15 * len(y))\n",
        "train_idx = indices[:train_size]\n",
        "val_idx = indices[train_size:train_size + val_size]\n",
        "test_idx = indices[train_size + val_size:]\n",
        "\n",
        "X_train, y_train = X_normalized[train_idx], y[train_idx]\n",
        "X_val, y_val = X_normalized[val_idx], y[val_idx]\n",
        "X_test, y_test = X_normalized[test_idx], y[test_idx]"
      ],
      "metadata": {
        "id": "-rvEM9HEIhZc"
      },
      "execution_count": null,
      "outputs": []
    },
    {
      "cell_type": "code",
      "source": [
        "# Gradient Descent from Scratch for Logistic Regression\n",
        "def sigmoid(z):\n",
        "    return 1 / (1 + np.exp(-z))\n",
        "\n",
        "def gradient_descent(X, y, learning_rate=0.01, iterations=1000):\n",
        "    n_samples, n_features = X.shape\n",
        "    weights = np.zeros(n_features)\n",
        "    bias = 0\n",
        "    cost_history = []\n",
        "\n",
        "    for _ in range(iterations):\n",
        "        # Forward pass\n",
        "        z = np.dot(X, weights) + bias\n",
        "        y_pred = sigmoid(z)\n",
        "\n",
        "        # Compute gradients\n",
        "        error = y_pred - y\n",
        "        dw = (1/n_samples) * np.dot(X.T, error)\n",
        "        db = (1/n_samples) * np.sum(error)\n",
        "\n",
        "        # Update parameters\n",
        "        weights -= learning_rate * dw\n",
        "        bias -= learning_rate * db\n",
        "\n",
        "        # Compute cost (log-loss)\n",
        "        cost = -(1/n_samples) * np.sum(y * np.log(y_pred + 1e-15) + (1 - y) * np.log(1 - y_pred + 1e-15))\n",
        "        cost_history.append(cost)\n",
        "\n",
        "    return weights, bias, cost_history"
      ],
      "metadata": {
        "id": "HsvoMikrIihz"
      },
      "execution_count": null,
      "outputs": []
    },
    {
      "cell_type": "code",
      "source": [
        "# Train Logistic Regression from scratch\n",
        "weights, bias, cost_history = gradient_descent(X_train, y_train, learning_rate=0.1, iterations=1000)"
      ],
      "metadata": {
        "id": "ysbh1lOUInko"
      },
      "execution_count": null,
      "outputs": []
    },
    {
      "cell_type": "code",
      "source": [
        "# Predict function\n",
        "def predict(X, weights, bias, threshold=0.5):\n",
        "    z = np.dot(X, weights) + bias\n",
        "    y_pred = sigmoid(z)\n",
        "    return (y_pred >= threshold).astype(int)"
      ],
      "metadata": {
        "id": "oEBaMyMqIuKM"
      },
      "execution_count": null,
      "outputs": []
    },
    {
      "cell_type": "code",
      "source": [
        "# Evaluation Metrics\n",
        "def evaluate(y_true, y_pred):\n",
        "    accuracy = np.mean(y_true == y_pred)\n",
        "    precision = np.sum((y_true == 1) & (y_pred == 1)) / np.sum(y_pred == 1) if np.sum(y_pred == 1) > 0 else 0\n",
        "    recall = np.sum((y_true == 1) & (y_pred == 1)) / np.sum(y_true == 1) if np.sum(y_true == 1) > 0 else 0\n",
        "    f1 = 2 * precision * recall / (precision + recall) if (precision + recall) > 0 else 0\n",
        "    return accuracy, precision, recall, f1"
      ],
      "metadata": {
        "id": "Gq5hvWYWI0Wt"
      },
      "execution_count": null,
      "outputs": []
    },
    {
      "cell_type": "code",
      "source": [
        "# Evaluate Logistic Regression\n",
        "y_pred_train = predict(X_train, weights, bias)\n",
        "y_pred_test = predict(X_test, weights, bias)\n",
        "train_metrics = evaluate(y_train, y_pred_train)\n",
        "test_metrics = evaluate(y_test, y_pred_test)\n",
        "\n",
        "print(\"Logistic Regression (Scratch) - Train:\", train_metrics)\n",
        "print(\"Logistic Regression (Scratch) - Test:\", test_metrics)"
      ],
      "metadata": {
        "colab": {
          "base_uri": "https://localhost:8080/"
        },
        "id": "g7AxtyquSYAP",
        "outputId": "b07b50de-2e05-4119-ad74-372a7fa53daa"
      },
      "execution_count": null,
      "outputs": [
        {
          "output_type": "stream",
          "name": "stdout",
          "text": [
            "Logistic Regression (Scratch) - Train: (np.float64(0.6995943204868155), np.float64(0.6553863508178229), np.float64(0.5718503937007874), np.float64(0.6107752956636006))\n",
            "Logistic Regression (Scratch) - Test: (np.float64(0.7142857142857143), np.float64(0.6578171091445427), np.float64(0.5452322738386308), np.float64(0.5962566844919786))\n"
          ]
        }
      ]
    },
    {
      "cell_type": "code",
      "source": [
        "# Plot cost history\n",
        "plt.plot(cost_history)\n",
        "plt.xlabel('Iterations')\n",
        "plt.ylabel('Cost')\n",
        "plt.title('Gradient Descent Convergence')\n",
        "plt.show()"
      ],
      "metadata": {
        "colab": {
          "base_uri": "https://localhost:8080/",
          "height": 472
        },
        "id": "FDIWnGyISl3Y",
        "outputId": "36e35a1b-8499-438c-94a7-4a936aa2f43a"
      },
      "execution_count": null,
      "outputs": [
        {
          "output_type": "display_data",
          "data": {
            "text/plain": [
              "<Figure size 640x480 with 1 Axes>"
            ],
            "image/png": "[encoded data removed]"
          },
          "metadata": {}
        }
      ]
    },
    {
      "cell_type": "code",
      "source": [
        "# Decision Tree from Scratch\n",
        "class DecisionTree:\n",
        "    def __init__(self, max_depth=5):\n",
        "        self.max_depth = max_depth\n",
        "        self.tree = None\n",
        "\n",
        "    def entropy(self, y):\n",
        "        p = np.mean(y)\n",
        "        if p == 0 or p == 1:\n",
        "            return 0\n",
        "        return -p * np.log2(p) - (1 - p) * np.log2(1 - p)\n",
        "\n",
        "    def information_gain(self, X, y, feature_idx, threshold):\n",
        "        parent_entropy = self.entropy(y)\n",
        "        left_mask = X[:, feature_idx] <= threshold\n",
        "        right_mask = ~left_mask\n",
        "\n",
        "        if np.sum(left_mask) == 0 or np.sum(right_mask) == 0:\n",
        "            return 0\n",
        "\n",
        "        left_entropy = self.entropy(y[left_mask])\n",
        "        right_entropy = self.entropy(y[right_mask])\n",
        "        n = len(y)\n",
        "        child_entropy = (np.sum(left_mask) / n) * left_entropy + (np.sum(right_mask) / n) * right_entropy\n",
        "        return parent_entropy - child_entropy\n",
        "\n",
        "    def best_split(self, X, y):\n",
        "        best_gain = -1\n",
        "        best_feature = None\n",
        "        best_threshold = None\n",
        "\n",
        "        for feature in range(X.shape[1]):\n",
        "            thresholds = np.unique(X[:, feature])\n",
        "            for threshold in thresholds:\n",
        "                gain = self.information_gain(X, y, feature, threshold)\n",
        "                if gain > best_gain:\n",
        "                    best_gain = gain\n",
        "                    best_feature = feature\n",
        "                    best_threshold = threshold\n",
        "        return best_feature, best_threshold, best_gain\n",
        "\n",
        "    def build_tree(self, X, y, depth=0):\n",
        "        if depth >= self.max_depth or len(np.unique(y)) == 1 or len(y) < 2:\n",
        "            return np.mean(y) > 0.5\n",
        "\n",
        "        feature, threshold, gain = self.best_split(X, y)\n",
        "        if gain == 0:\n",
        "            return np.mean(y) > 0.5\n",
        "\n",
        "        left_mask = X[:, feature] <= threshold\n",
        "        right_mask = ~left_mask\n",
        "\n",
        "        left_subtree = self.build_tree(X[left_mask], y[left_mask], depth + 1)\n",
        "        right_subtree = self.build_tree(X[right_mask], y[right_mask], depth + 1)\n",
        "        return (feature, threshold, left_subtree, right_subtree)\n",
        "\n",
        "    def fit(self, X, y):\n",
        "        self.tree = self.build_tree(X, y)\n",
        "\n",
        "    def predict_single(self, x, node):\n",
        "        if not isinstance(node, tuple):\n",
        "            return int(node)\n",
        "        feature, threshold, left, right = node\n",
        "        if x[feature] <= threshold:\n",
        "            return self.predict_single(x, left)\n",
        "        return self.predict_single(x, right)\n",
        "\n",
        "    def predict(self, X):\n",
        "        return np.array([self.predict_single(x, self.tree) for x in X])"
      ],
      "metadata": {
        "id": "B9qdcJe6Suh-"
      },
      "execution_count": null,
      "outputs": []
    },
    {
      "cell_type": "code",
      "source": [
        "# Train and evaluate Decision Tree\n",
        "dt = DecisionTree(max_depth=5)\n",
        "dt.fit(X_train, y_train)\n",
        "y_pred_dt_test = dt.predict(X_test)\n",
        "dt_metrics = evaluate(y_test, y_pred_dt_test)\n",
        "print(\"Decision Tree (Scratch) - Test:\", dt_metrics)"
      ],
      "metadata": {
        "colab": {
          "base_uri": "https://localhost:8080/"
        },
        "id": "t1ehke8KS-iU",
        "outputId": "c9bc4186-8341-4d82-9871-e18ef255a4eb"
      },
      "execution_count": null,
      "outputs": [
        {
          "output_type": "stream",
          "name": "stdout",
          "text": [
            "Decision Tree (Scratch) - Test: (np.float64(0.7805108798486282), np.float64(0.7185185185185186), np.float64(0.7114914425427873), np.float64(0.7149877149877151))\n"
          ]
        }
      ]
    },
    {
      "cell_type": "code",
      "source": [
        "# Random Forest from Scratch\n",
        "class RandomForest:\n",
        "    def __init__(self, n_trees=10, max_depth=5, subsample_size=0.8):\n",
        "        self.n_trees = n_trees\n",
        "        self.max_depth = max_depth\n",
        "        self.subsample_size = subsample_size\n",
        "        self.trees = []\n",
        "\n",
        "    def fit(self, X, y):\n",
        "        n_samples = X.shape[0]\n",
        "        for _ in range(self.n_trees):\n",
        "            idx = np.random.choice(n_samples, int(n_samples * self.subsample_size), replace=True)\n",
        "            X_sample, y_sample = X[idx], y[idx]\n",
        "            tree = DecisionTree(max_depth=self.max_depth)\n",
        "            tree.fit(X_sample, y_sample)\n",
        "            self.trees.append(tree)\n",
        "\n",
        "    def predict(self, X):\n",
        "        predictions = np.array([tree.predict(X) for tree in self.trees])\n",
        "        return np.apply_along_axis(lambda x: np.bincount(x).argmax(), axis=0, arr=predictions)"
      ],
      "metadata": {
        "id": "6jMH-tmzTH6g"
      },
      "execution_count": null,
      "outputs": []
    },
    {
      "cell_type": "code",
      "source": [
        "# Train and evaluate Random Forest\n",
        "rf = RandomForest(n_trees=10, max_depth=5)\n",
        "rf.fit(X_train, y_train)\n",
        "y_pred_rf_test = rf.predict(X_test)\n",
        "rf_metrics = evaluate(y_test, y_pred_rf_test)\n",
        "print(\"Random Forest (Scratch) - Test:\", rf_metrics)"
      ],
      "metadata": {
        "colab": {
          "base_uri": "https://localhost:8080/"
        },
        "id": "SWz7VRQLTQaw",
        "outputId": "c5cda3f5-c040-4e2e-818f-6345eb3ceb48"
      },
      "execution_count": null,
      "outputs": [
        {
          "output_type": "stream",
          "name": "stdout",
          "text": [
            "Random Forest (Scratch) - Test: (np.float64(0.78240302743614), np.float64(0.7300771208226221), np.float64(0.6943765281173594), np.float64(0.7117794486215538))\n"
          ]
        }
      ]
    },
    {
      "cell_type": "code",
      "source": [
        "# Simple AdaBoost from Scratch\n",
        "class SimpleAdaBoost:\n",
        "    def __init__(self, n_estimators=10, max_depth=1):\n",
        "        self.n_estimators = n_estimators\n",
        "        self.max_depth = max_depth\n",
        "        self.trees = []\n",
        "        self.alphas = []\n",
        "\n",
        "    def fit(self, X, y):\n",
        "        weights = np.ones(len(y)) / len(y)\n",
        "        for _ in range(self.n_estimators):\n",
        "            tree = DecisionTree(max_depth=self.max_depth)\n",
        "            tree.fit(X, y)\n",
        "            y_pred = tree.predict(X)\n",
        "            error = np.sum(weights * (y_pred != y)) / np.sum(weights)\n",
        "            if error > 0.5:\n",
        "                break\n",
        "            alpha = 0.5 * np.log((1 - error) / (error + 1e-10))\n",
        "            weights *= np.exp(-alpha * y * (2 * y_pred - 1))\n",
        "            weights /= np.sum(weights)\n",
        "            self.trees.append(tree)\n",
        "            self.alphas.append(alpha)\n",
        "\n",
        "    def predict(self, X):\n",
        "        preds = np.zeros(X.shape[0])\n",
        "        for alpha, tree in zip(self.alphas, self.trees):\n",
        "            preds += alpha * tree.predict(X)\n",
        "        return (preds >= 0).astype(int)"
      ],
      "metadata": {
        "id": "T-ZvTlvmTYIy"
      },
      "execution_count": null,
      "outputs": []
    },
    {
      "cell_type": "code",
      "source": [
        "# Train and evaluate Simple AdaBoost\n",
        "ab = SimpleAdaBoost(n_estimators=10, max_depth=1)\n",
        "ab.fit(X_train, y_train)\n",
        "y_pred_ab_test = ab.predict(X_test)\n",
        "ab_metrics = evaluate(y_test, y_pred_ab_test)\n",
        "print(\"Simple AdaBoost (Scratch) - Test:\", ab_metrics)"
      ],
      "metadata": {
        "colab": {
          "base_uri": "https://localhost:8080/"
        },
        "id": "Kn9ZpqBnTj3T",
        "outputId": "0827b25c-6b0d-4aa2-da0a-745a174caba3"
      },
      "execution_count": null,
      "outputs": [
        {
          "output_type": "stream",
          "name": "stdout",
          "text": [
            "Simple AdaBoost (Scratch) - Test: (np.float64(0.3869441816461684), np.float64(0.3869441816461684), np.float64(1.0), np.float64(0.557980900409277))\n"
          ]
        }
      ]
    },
    {
      "cell_type": "code",
      "source": [
        "# Hyperparameter Tuning for Random Forest (Manual Grid Search)\n",
        "best_rf_metrics = None\n",
        "best_params = None\n",
        "for n_trees in [5, 10, 15]:\n",
        "    for max_depth in [3, 5, 7]:\n",
        "        rf = RandomForest(n_trees=n_trees, max_depth=max_depth)\n",
        "        rf.fit(X_train, y_train)\n",
        "        y_pred_val = rf.predict(X_val)\n",
        "        val_metrics = evaluate(y_val, y_pred_val)\n",
        "        if best_rf_metrics is None or val_metrics[0] > best_rf_metrics[0]:\n",
        "            best_rf_metrics = val_metrics\n",
        "            best_params = (n_trees, max_depth)"
      ],
      "metadata": {
        "id": "5aip6BdyTo_N"
      },
      "execution_count": null,
      "outputs": []
    },
    {
      "cell_type": "code",
      "source": [
        "print(f\"Best Random Forest Params: n_trees={best_params[0]}, max_depth={best_params[1]}\")\n",
        "print(\"Best Random Forest Validation Metrics:\", best_rf_metrics)"
      ],
      "metadata": {
        "colab": {
          "base_uri": "https://localhost:8080/"
        },
        "id": "vg9b6O0VT0Wk",
        "outputId": "db78d19f-7853-45d1-b180-450e2a8c15c8"
      },
      "execution_count": null,
      "outputs": [
        {
          "output_type": "stream",
          "name": "stdout",
          "text": [
            "Best Random Forest Params: n_trees=5, max_depth=5\n",
            "Best Random Forest Validation Metrics: (np.float64(0.7679924242424242), np.float64(0.6713286713286714), np.float64(0.7346938775510204), np.float64(0.7015834348355664))\n"
          ]
        }
      ]
    },
    {
      "cell_type": "code",
      "source": [
        "# Train best Random Forest on test set\n",
        "best_rf = RandomForest(n_trees=best_params[0], max_depth=best_params[1])\n",
        "best_rf.fit(X_train, y_train)\n",
        "y_pred_best_rf_test = best_rf.predict(X_test)\n",
        "best_rf_test_metrics = evaluate(y_test, y_pred_best_rf_test)\n",
        "print(\"Tuned Random Forest - Test:\", best_rf_test_metrics)"
      ],
      "metadata": {
        "colab": {
          "base_uri": "https://localhost:8080/"
        },
        "id": "vIP2Gak4T9ei",
        "outputId": "cbc256f5-17a4-4376-c1b4-15e2eff1b262"
      },
      "execution_count": null,
      "outputs": [
        {
          "output_type": "stream",
          "name": "stdout",
          "text": [
            "Tuned Random Forest - Test: (np.float64(0.7842951750236519), np.float64(0.7302798982188295), np.float64(0.7017114914425427), np.float64(0.7157107231920199))\n"
          ]
        }
      ]
    }
  ]
}