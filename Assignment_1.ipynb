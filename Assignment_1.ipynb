{
  "nbformat": 4,
  "nbformat_minor": 0,
  "metadata": {
    "colab": {
      "provenance": [],
      "authorship_tag": "ABX9TyNbjFsaenvkDhe3lU9YCGfb",
      "include_colab_link": true
    },
    "kernelspec": {
      "name": "python3",
      "display_name": "Python 3"
    },
    "language_info": {
      "name": "python"
    }
  },
  "cells": [
    {
      "cell_type": "markdown",
      "metadata": {
        "id": "view-in-github",
        "colab_type": "text"
      },
      "source": [
        "<a href=\"https://colab.research.google.com/github/youngolax/AI_Module/blob/main/Assignment_1.ipynb\" target=\"_parent\"><img src=\"https://colab.research.google.com/assets/colab-badge.svg\" alt=\"Open In Colab\"/></a>"
      ]
    },
    {
      "cell_type": "code",
      "source": [
        "# Import necessary library\n",
        "import pandas as pd\n",
        "import numpy as np\n",
        "import matplotlib.pyplot as plt"
      ],
      "metadata": {
        "id": "UnfTy5EPzR0x"
      },
      "execution_count": 23,
      "outputs": []
    },
    {
      "cell_type": "code",
      "source": [
        "from google.colab import drive\n",
        "drive.mount('/content/drive')"
      ],
      "metadata": {
        "colab": {
          "base_uri": "https://localhost:8080/"
        },
        "id": "HSP-Hqpf0PVT",
        "outputId": "af13693c-ef3e-4102-a1b8-0be2bbbca622"
      },
      "execution_count": 24,
      "outputs": [
        {
          "output_type": "stream",
          "name": "stdout",
          "text": [
            "Drive already mounted at /content/drive; to attempt to forcibly remount, call drive.mount(\"/content/drive\", force_remount=True).\n"
          ]
        }
      ]
    },
    {
      "cell_type": "code",
      "execution_count": 25,
      "metadata": {
        "id": "eqsg40Yey3Uh"
      },
      "outputs": [],
      "source": [
        "# Load the dataset\n",
        "df_salary = pd.read_csv(\"/content/drive/MyDrive/Colab Notebooks/Salary_Data.csv\")"
      ]
    },
    {
      "cell_type": "code",
      "source": [
        "# Display basic information\n",
        "df_salary.info(), df_salary.head()"
      ],
      "metadata": {
        "colab": {
          "base_uri": "https://localhost:8080/"
        },
        "id": "k4K8uuoDzAC3",
        "outputId": "a1e0afb7-7d09-4d30-f2ba-81dd91388ca9"
      },
      "execution_count": 26,
      "outputs": [
        {
          "output_type": "stream",
          "name": "stdout",
          "text": [
            "<class 'pandas.core.frame.DataFrame'>\n",
            "RangeIndex: 30 entries, 0 to 29\n",
            "Data columns (total 2 columns):\n",
            " #   Column           Non-Null Count  Dtype  \n",
            "---  ------           --------------  -----  \n",
            " 0   YearsExperience  30 non-null     float64\n",
            " 1   Salary           30 non-null     float64\n",
            "dtypes: float64(2)\n",
            "memory usage: 612.0 bytes\n"
          ]
        },
        {
          "output_type": "execute_result",
          "data": {
            "text/plain": [
              "(None,\n",
              "    YearsExperience   Salary\n",
              " 0              1.1  39343.0\n",
              " 1              1.3  46205.0\n",
              " 2              1.5  37731.0\n",
              " 3              2.0  43525.0\n",
              " 4              2.2  39891.0)"
            ]
          },
          "metadata": {},
          "execution_count": 26
        }
      ]
    },
    {
      "cell_type": "code",
      "source": [
        "# Extract features (X) and target variable (y)\n",
        "X = df_salary[\"YearsExperience\"].values.reshape(-1, 1)\n",
        "y = df_salary[\"Salary\"].values.reshape(-1, 1)\n"
      ],
      "metadata": {
        "id": "-3_EuS7lzDCx"
      },
      "execution_count": 28,
      "outputs": []
    },
    {
      "cell_type": "code",
      "source": [
        "# Normalize the data for better gradient descent convergence\n",
        "X_norm = (X - np.mean(X)) / np.std(X)\n",
        "y_norm = (y - np.mean(y)) / np.std(y)"
      ],
      "metadata": {
        "id": "BH5xqxHjzHgB"
      },
      "execution_count": 29,
      "outputs": []
    },
    {
      "cell_type": "code",
      "source": [
        "# Add bias term (intercept) to X\n",
        "#X = np.c_[np.ones(X.shape[0]), X]  # Adding a column of ones for bias term"
      ],
      "metadata": {
        "id": "c-poGPfmzeby"
      },
      "execution_count": 44,
      "outputs": []
    },
    {
      "cell_type": "code",
      "source": [
        "# Initialize parameters (theta0 - intercept, theta1 - slope)\n",
        "#theta = np.zeros(2)"
      ],
      "metadata": {
        "id": "VZ6CccEuziea"
      },
      "execution_count": 45,
      "outputs": []
    },
    {
      "cell_type": "code",
      "source": [
        "# Function to implement Batch Gradient Descent\n",
        "def gradient_descent(X, y, learning_rate=0.1, iterations=1000):\n",
        "    m, n = X.shape\n",
        "    theta = np.zeros((n + 1, 1))  # Initializing parameters (theta0 and theta1)\n",
        "    X_b = np.c_[np.ones((m, 1)), X]  # Add bias term (x0 = 1)\n",
        "    cost_history = []\n",
        "\n",
        "    for iterations in range(iterations):\n",
        "        gradients = (2/m) * X_b.T.dot(X_b.dot(theta) - y)  # Compute gradients\n",
        "        theta -= learning_rate * gradients  # Update parameters\n",
        "        cost = mean_squared_error(y, X_b.dot(theta))  # Compute cost (MSE)\n",
        "        cost_history.append(cost)\n",
        "\n",
        "    return theta, cost_history\n"
      ],
      "metadata": {
        "id": "2gJdffTHzp57"
      },
      "execution_count": 46,
      "outputs": []
    },
    {
      "cell_type": "code",
      "source": [
        "from sklearn.metrics import mean_squared_error"
      ],
      "metadata": {
        "id": "cvctQ8HaCpR0"
      },
      "execution_count": 48,
      "outputs": []
    },
    {
      "cell_type": "code",
      "source": [
        "# Train the model using Gradient Descent\n",
        "theta_gd, cost_history = gradient_descent(X_norm, y_norm, learning_rate=0.1, iterations=1000)"
      ],
      "metadata": {
        "id": "cWDKS7IPzvvJ"
      },
      "execution_count": 49,
      "outputs": []
    },
    {
      "cell_type": "code",
      "source": [
        "# Display final parameters\n",
        "theta_gd"
      ],
      "metadata": {
        "colab": {
          "base_uri": "https://localhost:8080/"
        },
        "id": "QBjQqiyCz1lI",
        "outputId": "259c2274-5ac1-47f7-ce64-53bf5cd0c979"
      },
      "execution_count": 50,
      "outputs": [
        {
          "output_type": "execute_result",
          "data": {
            "text/plain": [
              "array([[5.44009282e-17],\n",
              "       [9.78241618e-01]])"
            ]
          },
          "metadata": {},
          "execution_count": 50
        }
      ]
    },
    {
      "cell_type": "code",
      "source": [
        "from sklearn.linear_model import LinearRegression"
      ],
      "metadata": {
        "id": "gU6-xAVcz2dL"
      },
      "execution_count": 51,
      "outputs": []
    },
    {
      "cell_type": "code",
      "source": [
        "# Train using Scikit-Learn's Linear Regression\n",
        "model = LinearRegression()\n",
        "model.fit(X, y)\n",
        "theta_sklearn = [model.intercept_[0], model.coef_[0][0]]"
      ],
      "metadata": {
        "id": "l8QqYlsIz-5M"
      },
      "execution_count": 55,
      "outputs": []
    },
    {
      "cell_type": "code",
      "source": [
        "# Plot the cost function over iterations\n",
        "plt.figure(figsize=(8, 5))\n",
        "plt.plot(range(len(cost_history)), cost_history, label=\"Gradient Descent Cost\", color='b')\n",
        "plt.xlabel(\"Iterations\")\n",
        "plt.ylabel(\"Mean Squared Error\")\n",
        "plt.title(\"Convergence of Gradient Descent\")\n",
        "plt.legend()\n",
        "plt.grid()\n",
        "plt.show()"
      ],
      "metadata": {
        "colab": {
          "base_uri": "https://localhost:8080/",
          "height": 487
        },
        "id": "l07sEBLt0Btk",
        "outputId": "669aee49-0ab7-4a16-eb27-ab11b1554e7f"
      },
      "execution_count": 63,
      "outputs": [
        {
          "output_type": "display_data",
          "data": {
            "text/plain": [
              "<Figure size 800x500 with 1 Axes>"
            ],
            "image/png": "[encoded data removed]"
          },
          "metadata": {}
        }
      ]
    },
    {
      "cell_type": "code",
      "source": [
        "# Display the Scikit-Learn parameters\n",
        "theta_sklearn"
      ],
      "metadata": {
        "colab": {
          "base_uri": "https://localhost:8080/"
        },
        "id": "fpu1V-gv0Ghm",
        "outputId": "f2e20fab-f0dd-4d52-b8b6-e80cf937576d"
      },
      "execution_count": 68,
      "outputs": [
        {
          "output_type": "execute_result",
          "data": {
            "text/plain": [
              "[np.float64(25792.200198668696), np.float64(0.0)]"
            ]
          },
          "metadata": {},
          "execution_count": 68
        }
      ]
    }
  ]
}